{
 "cells": [
  {
   "cell_type": "markdown",
   "metadata": {},
   "source": [
    "# The Cart Pole Problem\n",
    "The goal of this project is to balance a pole on a cart which you can move back and forth.\n",
    "There are two possible actions, add force to left and add force to right. Scoring takes place for how long you keep the pole in the air\n",
    "\n",
    "I am going to attempt to implement (from scratch) a simple 1 fully connected hidden layer ANN with N nodes and 2 outputs"
   ]
  },
  {
   "cell_type": "code",
   "execution_count": 1,
   "metadata": {},
   "outputs": [],
   "source": [
    "import tensorflow as tf\n",
    "import numpy as np\n",
    "import gym\n",
    "import matplotlib.pyplot as plt\n",
    "%matplotlib inline"
   ]
  },
  {
   "cell_type": "markdown",
   "metadata": {},
   "source": [
    "### Step 1 \n",
    "Define an \"Agent\" which has .run(), .update(), .reset() In this case the agent will be implemented in numpy for the practice"
   ]
  },
  {
   "cell_type": "code",
   "execution_count": 168,
   "metadata": {},
   "outputs": [],
   "source": [
    "class activation:\n",
    "    def __init__(self, type='linear'):\n",
    "        self.type = type\n",
    "        \n",
    "    def _sigmoid(self, x):\n",
    "        return 1/(1+np.exp(x))\n",
    "    \n",
    "    def activate(self, x):\n",
    "        if self.type == 'linear':\n",
    "            return x\n",
    "        if self.type == 'relu':\n",
    "            mask = x > 0\n",
    "            return mask*x\n",
    "        if self.type == 'sigmoid':\n",
    "            return self._sigmoid(x)\n",
    "        \n",
    "    def derivative(self, x):\n",
    "        if self.type == 'linear':\n",
    "            return 1\n",
    "        if self.type == 'relu':\n",
    "            return 1*(x>0)\n",
    "        if self.type == 'sigmoid':\n",
    "            return self._sigmoid(x)*(1-self._sigmoid(x))"
   ]
  },
  {
   "cell_type": "code",
   "execution_count": 390,
   "metadata": {},
   "outputs": [],
   "source": [
    "class agent():\n",
    "    def __init__(self, e_size, h_size, a_size, lr=0.01, gamma=0.99, a1='linear', a2='linear', discount='exp'):\n",
    "        # Record Agent Parameters\n",
    "        self.e_size = e_size\n",
    "        self.h_size = h_size\n",
    "        self.a_size = a_size\n",
    "        \n",
    "        self.lr = lr\n",
    "        self.gamma = gamma\n",
    "        self.A1 = activation(a1)\n",
    "        self.A2 = activation(a2)\n",
    "        self.discount = discount\n",
    "        \n",
    "        # Initialize weights and biases\n",
    "        self.hidden_weights = np.random.standard_normal((e_size, h_size))\n",
    "        self.hidden_bias = np.zeros((1, h_size))\n",
    "        \n",
    "        self.action_weights = np.random.standard_normal((h_size, a_size))\n",
    "        self.action_bias = np.zeros((1, a_size))\n",
    "        \n",
    "        # Initialize Replay history\n",
    "        self.history = []\n",
    "    \n",
    "    def reset(self):\n",
    "        self.history = []\n",
    "    \n",
    "    def discountedReward(self, rewards):\n",
    "        if self.discount == 'exp':\n",
    "            for i in xrange(rewards.shape[0]-2, -1, -1):\n",
    "                rewards[i] = rewards[i] + self.gamma*rewards[i+1]\n",
    "        elif (self.discount == 'lin'):\n",
    "            for i in xrange(rewards.shape[0]):\n",
    "                rewards[i] = min(np.sum(rewards[i:]), 30)\n",
    "        \n",
    "        return rewards\n",
    "    \n",
    "    def record(self, s, a, r):\n",
    "        # Ensuring state s is a proper row vector\n",
    "        if (len(s.shape)==1):\n",
    "            s = s[None, :]\n",
    "            \n",
    "        self.history.append([s, a, r])\n",
    "    \n",
    "    def forward_pass(self, s):\n",
    "        # Implement the forward pass returning the various intermediate results\n",
    "        \n",
    "        # Check the observation has the correct number of dimensions\n",
    "        assert (len(s.shape) <= 2 and len(s.shape) != 0)\n",
    "        # If it has one dimension turn into a row vector\n",
    "        if (len(s.shape)==1):\n",
    "            s = s[None,:]\n",
    "            \n",
    "        # If it has 2 dimensions ensure it is a vector not a matrix\n",
    "        assert (s.shape[0] == 1 or s.shape[1] == 1)\n",
    "        # Convert to row matrix if its a column\n",
    "        if (s.shape[0] !=1):\n",
    "            s = s.T\n",
    "            \n",
    "        # Input Checking complete. Run forward pass\n",
    "        hidden_input = np.dot(s, self.hidden_weights) + self.hidden_bias\n",
    "        hidden_output = self.A1.activate(hidden_input)\n",
    "        \n",
    "        action_input = np.dot(hidden_output, self.action_weights) + self.action_bias\n",
    "        action_output = self.A2.activate(action_input)\n",
    "        \n",
    "        return [hidden_input, hidden_output, action_input, action_output]\n",
    "    \n",
    "    def update(self):\n",
    "#         print (\"UPDATING\")\n",
    "        # Function to use back propagation with the history to improve weights\n",
    "        \n",
    "        # Input checking\n",
    "        assert len(self.history) > 0\n",
    "        \n",
    "        # Applying discounted reward to this particular replay\n",
    "        history = np.array(self.history)\n",
    "        history[:,2] = self.discountedReward(history[:,2])\n",
    "        \n",
    "        # Prepare for gradients\n",
    "        HWChange = np.zeros(self.hidden_weights.shape)\n",
    "        HBChange = np.zeros(self.hidden_bias.shape)\n",
    "        \n",
    "        AWChange = np.zeros(self.action_weights.shape)\n",
    "        ABChange = np.zeros(self.action_bias.shape)\n",
    "        for i in xrange(history.shape[0]):\n",
    "            # For each step of history:\n",
    "                # Apply forward pass\n",
    "                # \n",
    "            state = history[i, 0]\n",
    "            action = history[i, 1]\n",
    "            reward = history[i, 2]\n",
    "            \n",
    "            (HI, H, A, yhat) = self.forward_pass(state)\n",
    "            \n",
    "            main_error_term = np.zeros((1, self.a_size))\n",
    "            main_error_term[0, action] = -1*(reward-yhat[0,action])\n",
    "            \n",
    "            main_error_term = main_error_term*self.A1.derivative(A)\n",
    "            \n",
    "            hidden_error_term = np.dot(main_error_term, self.action_weights.T)\n",
    "            hidden_error_term = hidden_error_term*self.A2.derivative(HI)\n",
    "            \n",
    "            AWChange += np.dot(H.T, main_error_term)\n",
    "            ABChange += main_error_term*1\n",
    "            \n",
    "            HWChange += np.dot(state.T, hidden_error_term)\n",
    "            HBChange += hidden_error_term*1\n",
    "        \n",
    "        run_length = 1#10*np.sqrt(history.shape[0])\n",
    "        \n",
    "        self.hidden_weights -= self.lr*HWChange/run_length\n",
    "        self.hidden_bias -= self.lr*HBChange/run_length\n",
    "        \n",
    "        self.action_weights -= self.lr*AWChange/run_length\n",
    "        self.action_bias -= self.lr*ABChange/run_length\n",
    "        \n",
    "        # Delete history\n",
    "        self.history = []\n",
    "                \n",
    "    def predict(self, s):\n",
    "        # Return the Q values prdicted for input state S\n",
    "        return self.forward_pass(s)[-1]\n",
    "    \n",
    "    def choose_action(self, s):\n",
    "        # Use the prediction to make a decision\n",
    "        return np.argmax(self.predict(s))\n",
    "            \n",
    "        "
   ]
  },
  {
   "cell_type": "markdown",
   "metadata": {},
   "source": [
    "### Test Agent\n",
    "Implement tests for the back-propagation"
   ]
  },
  {
   "cell_type": "code",
   "execution_count": 391,
   "metadata": {},
   "outputs": [
    {
     "name": "stdout",
     "output_type": "stream",
     "text": [
      "All Tests Passed!\n"
     ]
    }
   ],
   "source": [
    "e_size = 2\n",
    "h_size = 3\n",
    "a_size = 2\n",
    "\n",
    "init_h_weights = np.array([[0.1, 0.5, 0.2], [0.3, -0.1, 0.6]])\n",
    "init_h_bias = np.zeros((1,3))\n",
    "init_a_weights = np.array([[-0.1, 0.1], [0.4, 0.3], [0.2, 0]])\n",
    "init_a_bias = np.zeros((1,2))\n",
    "\n",
    "exp_h_weights = np.array([[0.146, 0.638, 0.2],[0.392, 0.176, 0.6]])\n",
    "exp_h_bias = np.array([0.0092, 0.0276, 0])\n",
    "exp_a_weights = np.array([[-0.1, 0.422],[0.4, 0.438],[0.2, 0.644]])\n",
    "exp_a_bias = np.array([0, 0.092])\n",
    "\n",
    "state = np.array([5, 10])\n",
    "action = 1\n",
    "reward = 10\n",
    "\n",
    "test_agent = agent(e_size, h_size, a_size, lr=0.01, gamma=0.99)\n",
    "\n",
    "test_agent.hidden_weights = init_h_weights\n",
    "test_agent.hidden_bias = init_h_bias\n",
    "test_agent.action_weights = init_a_weights\n",
    "test_agent.action_bias = init_a_bias\n",
    "\n",
    "test_agent.record(state, action, reward)\n",
    "\n",
    "test_agent.update()\n",
    "\n",
    "assert(np.allclose(test_agent.hidden_weights, exp_h_weights))\n",
    "assert(np.allclose(test_agent.hidden_bias, exp_h_bias))\n",
    "assert(np.allclose(test_agent.action_weights, exp_a_weights))\n",
    "assert(np.allclose(test_agent.action_bias, exp_a_bias))\n",
    "\n",
    "print(\"All Tests Passed!\")\n"
   ]
  },
  {
   "cell_type": "markdown",
   "metadata": {},
   "source": [
    "### Step 2\n",
    "Now that we have the agent we can start using it to play the game. This section we run through a bunch of games (restart when hit done) and after each game we run the update"
   ]
  },
  {
   "cell_type": "code",
   "execution_count": 392,
   "metadata": {},
   "outputs": [],
   "source": [
    "def softmax(x):\n",
    "    \"\"\"Compute the softmax of vector x.\"\"\"\n",
    "    exps = np.exp(x-x.mean())\n",
    "    return exps / np.sum(exps)"
   ]
  },
  {
   "cell_type": "code",
   "execution_count": 393,
   "metadata": {
    "scrolled": true
   },
   "outputs": [
    {
     "name": "stderr",
     "output_type": "stream",
     "text": [
      "[2017-11-23 12:49:59,116] Making new env: CartPole-v0\n"
     ]
    },
    {
     "name": "stdout",
     "output_type": "stream",
     "text": [
      "Round:       0   Avg Score:   16.00    Max Score: 16.000000\n",
      "Round:    5000   Avg Score:   11.42    Max Score: 31.000000\n",
      "Round:   10000   Avg Score:   30.26    Max Score: 153.000000\n",
      "Round:   15000   Avg Score:   32.92    Max Score: 173.000000\n",
      "Round:   20000   Avg Score:   35.73    Max Score: 200.000000\n",
      "Round:   25000   Avg Score:   35.86    Max Score: 180.000000\n",
      "Round:   30000   Avg Score:   36.58    Max Score: 164.000000\n",
      "Round:   35000   Avg Score:   37.27    Max Score: 200.000000\n",
      "Round:   40000   Avg Score:   36.55    Max Score: 196.000000\n",
      "Round:   45000   Avg Score:   36.10    Max Score: 200.000000\n",
      "Round:   50000   Avg Score:   36.39    Max Score: 200.000000\n",
      "Round:   55000   Avg Score:   35.38    Max Score: 182.000000\n",
      "Round:   60000   Avg Score:   35.93    Max Score: 190.000000\n",
      "Round:   65000   Avg Score:   35.67    Max Score: 179.000000\n",
      "Round:   70000   Avg Score:   34.78    Max Score: 194.000000\n",
      "Round:   75000   Avg Score:   34.59    Max Score: 186.000000\n",
      "Round:   80000   Avg Score:   34.99    Max Score: 200.000000\n",
      "Round:   85000   Avg Score:   35.46    Max Score: 188.000000\n",
      "Round:   90000   Avg Score:   35.78    Max Score: 190.000000\n",
      "Round:   95000   Avg Score:   35.93    Max Score: 200.000000\n",
      "Round:   99999   Avg Score:   34.60    Max Score: 182.000000\n"
     ]
    }
   ],
   "source": [
    "# Training Parameter\n",
    "MAX_GAMES = 100000 # This is like epochs\n",
    "MAX_GAME_TIME = 999\n",
    "\n",
    "LEARNING_RATE = 0.0001\n",
    "DECAY = 1\n",
    "# DECAY = 0.99996\n",
    "GAMMA = 0.8576\n",
    "HIDDEN_NODES = 10\n",
    "\n",
    "REPORT_INTERVAL = 5000 # How often to report the progress.\n",
    "\n",
    "env = gym.make('CartPole-v0')\n",
    "e_size = 4\n",
    "a_size = 2\n",
    "player = agent(e_size, HIDDEN_NODES, a_size, lr=LEARNING_RATE, gamma=GAMMA, a1='relu')\n",
    "\n",
    "avgScore = 0.\n",
    "runCount = 0.\n",
    "bestScore = 0\n",
    "\n",
    "for i_episode in range(MAX_GAMES):\n",
    "    state = env.reset()\n",
    "    player.reset()\n",
    "    running_reward = 0\n",
    "    \n",
    "    for t in range(MAX_GAME_TIME):\n",
    "        \n",
    "        Q_vals = player.predict(state)\n",
    "        # Do a weighted sample to pick your action\n",
    "        action_prob = softmax(Q_vals[0,:])\n",
    "        action = np.random.choice(range(a_size), p=action_prob)\n",
    "        \n",
    "        new_state, reward, done, info = env.step(action)\n",
    "        player.record(state, action, reward)\n",
    "        running_reward += reward\n",
    "        state = new_state\n",
    "        if done:\n",
    "            avgScore += running_reward\n",
    "            runCount += 1\n",
    "            if (running_reward > bestScore):\n",
    "                bestScore = running_reward\n",
    "            player.update()\n",
    "            if (i_episode > MAX_GAMES/2.0):\n",
    "                player.lr = 0.0001 #player.lr*DECAY\n",
    "            if (i_episode % REPORT_INTERVAL == 0 or i_episode == MAX_GAMES-1):\n",
    "                print(\"Round: {0:7d}   Avg Score: {1:7.2f}    Max Score: {2:5f}\".format(i_episode, avgScore/runCount, bestScore))\n",
    "                avgScore = 0.\n",
    "                runCount = 0.\n",
    "                bestScore = 0\n",
    "            break"
   ]
  },
  {
   "cell_type": "code",
   "execution_count": 406,
   "metadata": {},
   "outputs": [
    {
     "name": "stderr",
     "output_type": "stream",
     "text": [
      "[2017-11-23 13:25:36,821] Making new env: CartPole-v0\n",
      "[2017-11-23 13:25:36,826] Starting new video recorder writing to /home/dennis/Documents/ML/ReinforcementLearning/cart-pole-monitor/openaigym.video.7.9899.video000000.mp4\n",
      "[2017-11-23 13:25:43,744] Starting new video recorder writing to /home/dennis/Documents/ML/ReinforcementLearning/cart-pole-monitor/openaigym.video.7.9899.video000001.mp4\n"
     ]
    },
    {
     "name": "stdout",
     "output_type": "stream",
     "text": [
      "Episode finished after 201 timesteps\n"
     ]
    }
   ],
   "source": [
    "from gym.wrappers import Monitor\n",
    "env = gym.make('CartPole-v0')\n",
    "env = Monitor(env, './cart-pole-monitor')\n",
    "state = env.reset()\n",
    "done = False\n",
    "t = 0\n",
    "while t<200:\n",
    "#     env.render()\n",
    "    action = player.choose_action(state)\n",
    "    state, reward, done, info = env.step(action)\n",
    "    t += 1\n",
    "    if done:\n",
    "        print(\"Episode finished after {} timesteps\".format(t+1))\n",
    "        break\n",
    "env.reset()\n",
    "env.render(close=True)"
   ]
  },
  {
   "cell_type": "markdown",
   "metadata": {},
   "source": [
    "# Notes\n",
    "Being my first reinforcement learning project I wanted to implement it from scratch using numpy (because numpy is a bit easier to debug then tensorflow)\n",
    "\n",
    "On the whole this was very enlightening. I decided to go for a DQN which predicts the actual Q values rather than one which predicts actions directly simply because the Q prediction model made a lot more sense to me. When you get a reward you try to update the network to better reflect what the expected reward for that action is. Beautiful in its simplicity.\n",
    "\n",
    "My biggest challenge was getting the model to converge. Even now it is somewhat hit-and miss. Mostly it seemed like early on it needed a larger learning rate but as it when on it needed to fine tune. That said sometimes it seems like it would get stuck in a rut right from the start and not be able to break out.\n",
    "\n",
    "I am sure that there are work-arounds for this the two ideas I tried is learning rate decay both exponential decay and discrete value decay. Both had improvements though both would still exhibit finding a peak and then falling off\n",
    "\n",
    "I suspected that the reason was that the early states tend to be similar and sometimes good courses of action were being unfairly punished early on because it was having trouble learning. As such I tried normalizing by the sqrt(length of the run) thinking this would allow more movement to remember good moves more easily and not as heavily punish bad moves. (Carrot vs Stick) \n",
    "\n",
    "It appears to be successful because the few tests I have done with it have converged much easier, but testing the bot doesn't seem te reflect the performance I was expecting. The average score is not great but the max is. I suspect that while possibly in the right direction, the is too much Carrot right now :P\n",
    "\n",
    "In the end I have decided to move on and do some more reading. As a first attempt it did pretty good but on the whole I think I am running into some wall i need to better understand.\n",
    "\n",
    "It occurs to me that if the same state is reached but at different times in the run then the target reward will be vastly different... Maybe using discounted reward is not the best policy in this case since the only thing that gives reward is staying in the air longer."
   ]
  },
  {
   "cell_type": "markdown",
   "metadata": {},
   "source": [
    "## Additional results\n",
    "Continuing in the investigation I realized I could tune the carrot stick ratio by adding a multiplicative factor out front of the sqrt. Ultimately if this works I think the same effect could be produced by a linear function but thats an investigation for another time.\n",
    "\n",
    "When Using the sqrt(run_length) as the normalizing factor the behaviour observed was that the bot would have a high max score for each reporting interval (often 200) but the average score remained around 30-40 This suggests to me that it was learning only one good path and was woefully unprepared for other starting states.\n",
    "\n",
    "The hope is that by normalizing by 10*sqrt(run_length) we will more evenly balance the carrot-stick ratio (centered on 100 as the crossing point.\n",
    "\n",
    "Its also worth noting that the avg score might be a poor metric. there is some randomness in the motions during training to avoid exploitation. to get a better metric we should really be testing the game properly.\n",
    "\n",
    "To be honest though I don't have enough experience at this point to really understand the implications here but it seems like maybe there is something to the idea.\n",
    "\n",
    "as for using the reward as the final reward... That idea didn't seem to pan out. When testing it it immediately dropped the quality of results. Visual testing seems like it learned one direction too well and ignored other situations. Maybe a constant reward if it wins for the next X moves and then a taper after that. A discrete convergent dynamical system could be good there...\n",
    "\n",
    "Interestingly it seems like normalizing the reward structure has helped a lot. It kind of makes sense. actions which will will help keep the pole in the air for a period greater then the typical influence time (i estimate about 30 steps though it might be less) all give the same reward. My only concernis that the linear dropoff is not a sufficient penalty for making mistakes.\n",
    "\n",
    "### Final thoughts\n",
    "I think what I took from this more than anything else is that the way we discount rewards has the biggest impact on the performance of all the factors. Ultimately I think using smarter optimizers will help but we can't escape the fact that how we consider the impact of an action on future rewards is probably the most critical aspect of this problem. However I also think that this could be coded in the game side if care is taken. for instance if we assume exponential decay of rewards we can tailor the the rewards being given to be more constant if the game is to remain constant. It doesn't make a lot of sense to give a reward for an action much larger just because that particular run went longer. The effect of that action ultimately has a time period of influence. \n",
    "\n",
    "HOWEVER with proper gamma tuning I think we can still do quite a bit. For instance in this case reducing gamma drastically should mean that some effective window of future events is considered. Lets say we consider 0.01 to be negliable then 0.01=gamma^N. If we want the effective period to be 30 time steps then gamma = 0.85 would be appropriate."
   ]
  },
  {
   "cell_type": "code",
   "execution_count": 374,
   "metadata": {},
   "outputs": [
    {
     "data": {
      "image/png": "[encoded data removed]",
      "text/plain": [
       "<matplotlib.figure.Figure at 0x7f084f12f2d0>"
      ]
     },
     "metadata": {},
     "output_type": "display_data"
    }
   ],
   "source": [
    "a = np.ones(60)\n",
    "for i in xrange(a.shape[0]):\n",
    "    x = np.sum(a[i:])\n",
    "    if (x >= 30):\n",
    "        a[i] = 30\n",
    "    else:\n",
    "        a[i] = 30*((-x/30)**4)\n",
    "#         a[i] = 60*(1/(1+np.exp((30-x)/5.0))\n",
    "\n",
    "plt.plot(a)\n",
    "plt.show()"
   ]
  },
  {
   "cell_type": "code",
   "execution_count": 394,
   "metadata": {},
   "outputs": [
    {
     "data": {
      "image/png": "[encoded data removed]",
      "text/plain": [
       "<matplotlib.figure.Figure at 0x7f084f104a50>"
      ]
     },
     "metadata": {},
     "output_type": "display_data"
    }
   ],
   "source": [
    "a = np.ones(60)\n",
    "gamma = 0.8576\n",
    "for i in xrange(a.shape[0]-2, -1, -1):\n",
    "    a[i] = a[i] + gamma*a[i+1]\n",
    "\n",
    "plt.plot(a)\n",
    "plt.show()"
   ]
  },
  {
   "cell_type": "code",
   "execution_count": null,
   "metadata": {},
   "outputs": [],
   "source": []
  }
 ],
 "metadata": {
  "kernelspec": {
   "display_name": "Python [conda env:RL]",
   "language": "python",
   "name": "conda-env-RL-py"
  },
  "language_info": {
   "codemirror_mode": {
    "name": "ipython",
    "version": 2
   },
   "file_extension": ".py",
   "mimetype": "text/x-python",
   "name": "python",
   "nbconvert_exporter": "python",
   "pygments_lexer": "ipython2",
   "version": "2.7.14"
  }
 },
 "nbformat": 4,
 "nbformat_minor": 2
}
