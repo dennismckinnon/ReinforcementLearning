{
 "cells": [
  {
   "cell_type": "markdown",
   "metadata": {},
   "source": [
    "# OpenAI GYM Pendulum-v0 # \n",
    "\n",
    "Swingup and balancing of a pendulum using an actor/critic reinforcement learning."
   ]
  },
  {
   "cell_type": "code",
   "execution_count": 3,
   "metadata": {},
   "outputs": [],
   "source": [
    "import tensorflow as tf\n",
    "import numpy as np\n",
    "import random\n",
    "import gym\n",
    "\n",
    "from collections import deque"
   ]
  },
  {
   "cell_type": "markdown",
   "metadata": {},
   "source": [
    "Create gym environment:"
   ]
  },
  {
   "cell_type": "code",
   "execution_count": 4,
   "metadata": {},
   "outputs": [],
   "source": [
    "env = gym.make('Pendulum-v0')\n",
    "num_states = np.prod(np.array(env.observation_space.shape)) \n",
    "num_actions = np.prod(np.array(env.action_space.shape))"
   ]
  },
  {
   "cell_type": "markdown",
   "metadata": {},
   "source": [
    "## Hyperparameters ##"
   ]
  },
  {
   "cell_type": "code",
   "execution_count": 5,
   "metadata": {},
   "outputs": [],
   "source": [
    "epochs = 10000\n",
    "num_steps = 10000\n",
    "batch_size = 1024\n",
    "critic_learn_rate = 0.001\n",
    "actor_learn_rate = 0.001"
   ]
  },
  {
   "cell_type": "markdown",
   "metadata": {},
   "source": [
    "#### ReplayBuffer Class ####\n",
    "Class to create and handel the buffer used for the replay of previous experiences. This is needed to remove temporal correlation from the state data."
   ]
  },
  {
   "cell_type": "code",
   "execution_count": 6,
   "metadata": {},
   "outputs": [],
   "source": [
    "class ReplayBuffer:\n",
    "\n",
    "    def __init__(self, buffer_size):\n",
    "        \" Initializes the replay buffer by creating a deque() and setting the size and buffer count. \"\n",
    "        self.buffer = deque()\n",
    "        self.buffer_size = buffer_size\n",
    "        self.count = 0\n",
    "         \n",
    "    def add(self, s, a, r, t, s2):\n",
    "         \n",
    "        \"\"\" Adds new experience to the ReplayBuffer(). If the buffer size is\n",
    "        reached, the oldest item is removed.\n",
    "         \n",
    "        Inputs needed to create new experience:\n",
    "            s      - State\n",
    "            a      - Action\n",
    "            r      - Reward\n",
    "            t      - Time\n",
    "            s2     - Resulting State     \n",
    "        \"\"\"\n",
    "        # Create experience list\n",
    "        experience = (s, a, r, t, s2)\n",
    "        \n",
    "        # Check the size of the buffer\n",
    "        if self.count < self.buffer_size:\n",
    "            self.count += 1\n",
    "        else:\n",
    "            self.buffer.popleft()\n",
    "            \n",
    "        # Add experience to buffer\n",
    "        self.buffer.append(experience)\n",
    "        \n",
    "    def size(self):\n",
    "        \" Return the amount of stored experiences. \" \n",
    "        return self.count\n",
    "    \n",
    "    def batch(self, batch_size):\n",
    "        \"Return a \\\"batch_size\\\" number of random samples from the buffer.\"\n",
    "        \n",
    "        if self.count < batch_size:\n",
    "            batch = random.sample(self.buffer, self.count)\n",
    "        else:\n",
    "            batch = random.sample(self.buffer, batch_size)\n",
    "        \n",
    "        batch_state = np.array([item[0] for item in batch])\n",
    "        batch_action = np.array([item[1] for item in batch])\n",
    "        batch_reward = np.array([item[2] for item in batch])\n",
    "        batch_time = np.array([item[3] for item in batch])\n",
    "        batch_next_state = np.array([item[4] for item in batch])\n",
    "        \n",
    "        return batch_state, batch_action, batch_reward, batch_time, batch_next_state \n",
    "            \n",
    "    def clear(self):\n",
    "        \" Remove all entries from the ReplayBuffer. \"\n",
    "        self.buffer.clear()\n",
    "        self.count = 0"
   ]
  },
  {
   "cell_type": "markdown",
   "metadata": {},
   "source": [
    "## Neural Networks ##\n",
    "Create the neural network classes for the actor and critic part of the reinforcement learning controller. "
   ]
  },
  {
   "cell_type": "markdown",
   "metadata": {},
   "source": [
    "Reset TensorFlow graph, just to be sure:"
   ]
  },
  {
   "cell_type": "code",
   "execution_count": 12,
   "metadata": {},
   "outputs": [],
   "source": [
    "tf.reset_default_graph()"
   ]
  },
  {
   "cell_type": "markdown",
   "metadata": {},
   "source": [
    "#### Actor Neural Network ####"
   ]
  },
  {
   "cell_type": "code",
   "execution_count": 7,
   "metadata": {},
   "outputs": [],
   "source": [
    "class ActorNetwork:\n",
    "    \n",
    "    # Actor Network Parameters\n",
    "    num_inputs = num_states\n",
    "    num_outputs = num_actions\n",
    "    num_hidden_1 = 8\n",
    "    num_hidden_2 = 8 \n",
    "    \n",
    "    output_min = env.action_space.low\n",
    "    output_max = env.action_space.high\n",
    "    \n",
    "    def __init__(self):\n",
    "        \n",
    "        # Define input placeholder\n",
    "        self.input = tf.placeholder(tf.float32, [None,self.num_inputs])\n",
    "        \n",
    "        # Weights\n",
    "        weight = {\n",
    "            'w1': tf.Variable(tf.random_normal([self.num_inputs, self.num_hidden_1]), name = 'weights_layer_1'),\n",
    "            'w2': tf.Variable(tf.random_normal([self.num_hidden_1, self.num_hidden_2]), name = 'weights_layer_2'),\n",
    "            'out': tf.Variable(tf.random_normal([self.num_hidden_2, self.num_outputs]), name = 'weights_layer_out')}\n",
    "        \n",
    "        # Biases\n",
    "        bias = {\n",
    "            'b1': tf.Variable(tf.zeros([self.num_hidden_1]), name = 'biases_layer_1'),\n",
    "            'b2': tf.Variable(tf.zeros([self.num_hidden_2]), name = 'biases_layer_2'),\n",
    "            'out': tf.Variable(tf.zeros([self.num_outputs]), name = 'biases_layer_out'),\n",
    "        }\n",
    "        \n",
    "        layer_1 = tf.add(tf.matmul(self.input, weight['w1']), bias['b1'])\n",
    "        layer_1 = tf.nn.relu(layer_1)\n",
    "        \n",
    "        layer_2 = tf.add(tf.matmul(layer_1, weight['w2']), bias['b2'])\n",
    "        layer_2 = tf.nn.relu(layer_2)\n",
    "        \n",
    "        network = tf.add(tf.matmul(layer_2, weight['out']), bias['out'])\n",
    "        network = tf.add(tf.multiply(tf.nn.sigmoid(network), tf.constant(self.output_max, tf.float32)), self.output_min)\n",
    "        \n",
    "        self.network = network\n"
   ]
  },
  {
   "cell_type": "markdown",
   "metadata": {},
   "source": [
    "#### Critic Neural Network ####\n",
    "Network layour experiments seem to suggest that better results are obtained if the action input skips the first layer before being added. "
   ]
  },
  {
   "cell_type": "code",
   "execution_count": 8,
   "metadata": {},
   "outputs": [],
   "source": [
    "class CriticNetwork:\n",
    "    \n",
    "    # Critic Network Parameters\n",
    "    num_inputs = num_states\n",
    "    num_outputs = 1\n",
    "    num_hidden_1 = 8\n",
    "    num_hidden_2 = 8\n",
    "    \n",
    "    def __init__(self):\n",
    "        \n",
    "        # Define input placeholders\n",
    "        self.input = tf.placeholder(tf.float32, [None,num_inputs])\n",
    "        self.action = tf.placeholder(tf.float32, [None,num_actions])\n",
    "        \n",
    "        # Weights\n",
    "        weight = {\n",
    "            'w1': tf.Variable(tf.random_normal([self.num_inputs, self.num_hidden_1]), name = 'weights_layer_1'),\n",
    "            'w2': tf.Variable(tf.random_normal([self.num_hidden_1, self.num_hidden_2]), name = 'weights_layer_2'),\n",
    "            'w2a': tf.Variable(tf.random_normal([self.num_actions, self.num_hidden_2]), name = 'weights_layer_2_actions'),\n",
    "            'out': tf.Variable(tf.random_normal([self.num_hidden_2, self.num_outputs]), name = 'weights_layer_out')}\n",
    "        \n",
    "        # Biases\n",
    "        bias = {\n",
    "            'b1': tf.Variable(tf.zeros([self.num_hidden_1]), name = 'biases_layer_1'),\n",
    "            'b2': tf.Variable(tf.zeros([self.num_hidden_2]), name = 'biases_layer_2'),\n",
    "            'out': tf.Variable(tf.zeros([self.num_outputs]), name = 'biases_layer_out'),\n",
    "        }\n",
    "        \n",
    "        layer_1 = tf.add(tf.matmul(self.input, weight['w1']), bias['b1'])\n",
    "        layer_1 = tf.nn.relu(layer_1)\n",
    "        \n",
    "        layer_2 = tf.add(tf.add(tf.matmul(layer_1, weight['w2']), tf.matmul(self.action, weight['w2a'])), bias['b2'])\n",
    "        layer_2 = tf.nn.relu(layer_2)\n",
    "        \n",
    "        self.network = tf.add(tf.matmul(layer_2, weight['out']), bias['out'])\n",
    "        "
   ]
  },
  {
   "cell_type": "code",
   "execution_count": null,
   "metadata": {},
   "outputs": [],
   "source": [
    "s = env.reset()\n",
    "env.render()"
   ]
  },
  {
   "cell_type": "code",
   "execution_count": null,
   "metadata": {},
   "outputs": [],
   "source": [
    "for i in range(100):\n",
    "    env.step(env.action_space.sample())\n",
    "    env.render()"
   ]
  },
  {
   "cell_type": "code",
   "execution_count": null,
   "metadata": {},
   "outputs": [],
   "source": []
  },
  {
   "cell_type": "code",
   "execution_count": null,
   "metadata": {},
   "outputs": [],
   "source": []
  }
 ],
 "metadata": {
  "kernelspec": {
   "display_name": "Python 3",
   "language": "python",
   "name": "python3"
  },
  "language_info": {
   "codemirror_mode": {
    "name": "ipython",
    "version": 3
   },
   "file_extension": ".py",
   "mimetype": "text/x-python",
   "name": "python",
   "nbconvert_exporter": "python",
   "pygments_lexer": "ipython3",
   "version": "3.6.3"
  }
 },
 "nbformat": 4,
 "nbformat_minor": 2
}
